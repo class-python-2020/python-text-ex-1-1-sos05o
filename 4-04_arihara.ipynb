{
 "cells": [
  {
   "cell_type": "code",
   "execution_count": 2,
   "metadata": {
    "tags": []
   },
   "outputs": [
    {
     "output_type": "stream",
     "name": "stdout",
     "text": "animal: cat\n"
    },
    {
     "output_type": "execute_result",
     "data": {
      "text/plain": "<function __main__.my_func()>"
     },
     "metadata": {},
     "execution_count": 2
    }
   ],
   "source": [
    "animal = 'cat'\n",
    "\n",
    "print(\"animal:\",animal)\n",
    "\n",
    "def my_func():\n",
    "    vegetable = 'carrot'\n",
    "    print(\"animal in my_func\",animal)\n",
    "    print(\"vegetable in_the_func:\",vegetable)\n",
    "\n",
    "my_func()"
   ]
  },
  {
   "cell_type": "code",
   "execution_count": null,
   "metadata": {},
   "outputs": [],
   "source": []
  }
 ],
 "metadata": {
  "language_info": {
   "codemirror_mode": {
    "name": "ipython",
    "version": 3
   },
   "file_extension": ".py",
   "mimetype": "text/x-python",
   "name": "python",
   "nbconvert_exporter": "python",
   "pygments_lexer": "ipython3",
   "version": 3
  },
  "orig_nbformat": 2,
  "kernelspec": {
   "name": "python_defaultSpec_1594784281112",
   "display_name": "Python 3.8.2 32-bit"
  }
 },
 "nbformat": 4,
 "nbformat_minor": 2
}